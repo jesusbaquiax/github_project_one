{
 "cells": [
  {
   "cell_type": "code",
   "execution_count": 1,
   "metadata": {},
   "outputs": [],
   "source": [
    "import requests\n",
    "import json\n",
    "import pandas as pd\n",
    "from sodapy import Socrata\n",
    "import numpy as np\n",
    "import matplotlib.pyplot as plt"
   ]
  },
  {
   "cell_type": "code",
   "execution_count": 28,
   "metadata": {},
   "outputs": [
    {
     "data": {
      "text/html": [
       "<div>\n",
       "<style scoped>\n",
       "    .dataframe tbody tr th:only-of-type {\n",
       "        vertical-align: middle;\n",
       "    }\n",
       "\n",
       "    .dataframe tbody tr th {\n",
       "        vertical-align: top;\n",
       "    }\n",
       "\n",
       "    .dataframe thead th {\n",
       "        text-align: right;\n",
       "    }\n",
       "</style>\n",
       "<table border=\"1\" class=\"dataframe\">\n",
       "  <thead>\n",
       "    <tr style=\"text-align: right;\">\n",
       "      <th></th>\n",
       "      <th>amount_due</th>\n",
       "      <th>county</th>\n",
       "      <th>fine_amount</th>\n",
       "      <th>interest_amount</th>\n",
       "      <th>issue_date</th>\n",
       "      <th>issuing_agency</th>\n",
       "      <th>judgment_entry_date</th>\n",
       "      <th>license_type</th>\n",
       "      <th>payment_amount</th>\n",
       "      <th>penalty_amount</th>\n",
       "      <th>plate</th>\n",
       "      <th>precinct</th>\n",
       "      <th>reduction_amount</th>\n",
       "      <th>state</th>\n",
       "      <th>summons_image</th>\n",
       "      <th>summons_number</th>\n",
       "      <th>violation</th>\n",
       "      <th>violation_status</th>\n",
       "      <th>violation_time</th>\n",
       "    </tr>\n",
       "  </thead>\n",
       "  <tbody>\n",
       "    <tr>\n",
       "      <th>0</th>\n",
       "      <td>0</td>\n",
       "      <td>NY</td>\n",
       "      <td>45</td>\n",
       "      <td>0</td>\n",
       "      <td>03/15/2018</td>\n",
       "      <td>TRAFFIC</td>\n",
       "      <td>NaN</td>\n",
       "      <td>PAS</td>\n",
       "      <td>45</td>\n",
       "      <td>0</td>\n",
       "      <td>XAYB44</td>\n",
       "      <td>024</td>\n",
       "      <td>0</td>\n",
       "      <td>NJ</td>\n",
       "      <td>{'url': 'http://nycserv.nyc.gov/NYCServWeb/Sho...</td>\n",
       "      <td>8634073543</td>\n",
       "      <td>PLTFRM LFTS LWRD POS COMM VEH</td>\n",
       "      <td>HEARING HELD-GUILTY</td>\n",
       "      <td>09:43A</td>\n",
       "    </tr>\n",
       "    <tr>\n",
       "      <th>1</th>\n",
       "      <td>0</td>\n",
       "      <td>NY</td>\n",
       "      <td>115</td>\n",
       "      <td>0</td>\n",
       "      <td>03/15/2018</td>\n",
       "      <td>TRAFFIC</td>\n",
       "      <td>NaN</td>\n",
       "      <td>PAS</td>\n",
       "      <td>125</td>\n",
       "      <td>10</td>\n",
       "      <td>GWL2947</td>\n",
       "      <td>024</td>\n",
       "      <td>0</td>\n",
       "      <td>NY</td>\n",
       "      <td>{'url': 'http://nycserv.nyc.gov/NYCServWeb/Sho...</td>\n",
       "      <td>8634073622</td>\n",
       "      <td>DOUBLE PARKING</td>\n",
       "      <td>NaN</td>\n",
       "      <td>10:23A</td>\n",
       "    </tr>\n",
       "    <tr>\n",
       "      <th>2</th>\n",
       "      <td>0</td>\n",
       "      <td>K</td>\n",
       "      <td>45</td>\n",
       "      <td>0</td>\n",
       "      <td>05/07/2018</td>\n",
       "      <td>TRAFFIC</td>\n",
       "      <td>NaN</td>\n",
       "      <td>PAS</td>\n",
       "      <td>75</td>\n",
       "      <td>30</td>\n",
       "      <td>GYG6579</td>\n",
       "      <td>077</td>\n",
       "      <td>0</td>\n",
       "      <td>NY</td>\n",
       "      <td>{'url': 'http://nycserv.nyc.gov/NYCServWeb/Sho...</td>\n",
       "      <td>8538575302</td>\n",
       "      <td>NO PARKING-STREET CLEANING</td>\n",
       "      <td>NaN</td>\n",
       "      <td>12:41P</td>\n",
       "    </tr>\n",
       "    <tr>\n",
       "      <th>3</th>\n",
       "      <td>0</td>\n",
       "      <td>BX</td>\n",
       "      <td>45</td>\n",
       "      <td>0</td>\n",
       "      <td>05/08/2018</td>\n",
       "      <td>TRAFFIC</td>\n",
       "      <td>NaN</td>\n",
       "      <td>PAS</td>\n",
       "      <td>45</td>\n",
       "      <td>0</td>\n",
       "      <td>GZH4470</td>\n",
       "      <td>049</td>\n",
       "      <td>0</td>\n",
       "      <td>NY</td>\n",
       "      <td>{'url': 'http://nycserv.nyc.gov/NYCServWeb/Sho...</td>\n",
       "      <td>8609796905</td>\n",
       "      <td>NO PARKING-STREET CLEANING</td>\n",
       "      <td>NaN</td>\n",
       "      <td>09:36A</td>\n",
       "    </tr>\n",
       "    <tr>\n",
       "      <th>4</th>\n",
       "      <td>45</td>\n",
       "      <td>K</td>\n",
       "      <td>35</td>\n",
       "      <td>0</td>\n",
       "      <td>07/28/2018</td>\n",
       "      <td>TRAFFIC</td>\n",
       "      <td>NaN</td>\n",
       "      <td>PAS</td>\n",
       "      <td>0</td>\n",
       "      <td>10</td>\n",
       "      <td>YWR0795</td>\n",
       "      <td>061</td>\n",
       "      <td>0</td>\n",
       "      <td>PA</td>\n",
       "      <td>{'url': 'http://nycserv.nyc.gov/NYCServWeb/Sho...</td>\n",
       "      <td>8673065628</td>\n",
       "      <td>FAIL TO DSPLY MUNI METER RECPT</td>\n",
       "      <td>NaN</td>\n",
       "      <td>11:16A</td>\n",
       "    </tr>\n",
       "  </tbody>\n",
       "</table>\n",
       "</div>"
      ],
      "text/plain": [
       "  amount_due county fine_amount interest_amount  issue_date issuing_agency  \\\n",
       "0          0     NY          45               0  03/15/2018        TRAFFIC   \n",
       "1          0     NY         115               0  03/15/2018        TRAFFIC   \n",
       "2          0      K          45               0  05/07/2018        TRAFFIC   \n",
       "3          0     BX          45               0  05/08/2018        TRAFFIC   \n",
       "4         45      K          35               0  07/28/2018        TRAFFIC   \n",
       "\n",
       "  judgment_entry_date license_type payment_amount penalty_amount    plate  \\\n",
       "0                 NaN          PAS             45              0   XAYB44   \n",
       "1                 NaN          PAS            125             10  GWL2947   \n",
       "2                 NaN          PAS             75             30  GYG6579   \n",
       "3                 NaN          PAS             45              0  GZH4470   \n",
       "4                 NaN          PAS              0             10  YWR0795   \n",
       "\n",
       "  precinct reduction_amount state  \\\n",
       "0      024                0    NJ   \n",
       "1      024                0    NY   \n",
       "2      077                0    NY   \n",
       "3      049                0    NY   \n",
       "4      061                0    PA   \n",
       "\n",
       "                                       summons_image summons_number  \\\n",
       "0  {'url': 'http://nycserv.nyc.gov/NYCServWeb/Sho...     8634073543   \n",
       "1  {'url': 'http://nycserv.nyc.gov/NYCServWeb/Sho...     8634073622   \n",
       "2  {'url': 'http://nycserv.nyc.gov/NYCServWeb/Sho...     8538575302   \n",
       "3  {'url': 'http://nycserv.nyc.gov/NYCServWeb/Sho...     8609796905   \n",
       "4  {'url': 'http://nycserv.nyc.gov/NYCServWeb/Sho...     8673065628   \n",
       "\n",
       "                        violation     violation_status violation_time  \n",
       "0   PLTFRM LFTS LWRD POS COMM VEH  HEARING HELD-GUILTY         09:43A  \n",
       "1                  DOUBLE PARKING                  NaN         10:23A  \n",
       "2      NO PARKING-STREET CLEANING                  NaN         12:41P  \n",
       "3      NO PARKING-STREET CLEANING                  NaN         09:36A  \n",
       "4  FAIL TO DSPLY MUNI METER RECPT                  NaN         11:16A  "
      ]
     },
     "execution_count": 28,
     "metadata": {},
     "output_type": "execute_result"
    }
   ],
   "source": [
    "client = Socrata(\"data.cityofnewyork.us\", \"nw0pZM57EWuIKqCqQvWUFqAE0\")\n",
    "results = client.get(\"uvbq-3m68\", limit = 500000, where=\"issue_date like'%/2018'\")\n",
    "client_df = pd.DataFrame.from_records(results)\n",
    "client_df.head()"
   ]
  },
  {
   "cell_type": "code",
   "execution_count": 3,
   "metadata": {},
   "outputs": [],
   "source": [
    "client_df[\"amount_due\"] = pd.to_numeric(client_df[\"amount_due\"])\n",
    "client_df[\"fine_amount\"] = pd.to_numeric(client_df[\"fine_amount\"])\n",
    "client_df[\"interest_amount\"] = pd.to_numeric(client_df[\"interest_amount\"])\n",
    "client_df[\"payment_amount\"] = pd.to_numeric(client_df[\"payment_amount\"])\n",
    "client_df[\"penalty_amount\"] = pd.to_numeric(client_df[\"penalty_amount\"])\n",
    "client_df[\"reduction_amount\"] = pd.to_numeric(client_df[\"reduction_amount\"])"
   ]
  },
  {
   "cell_type": "code",
   "execution_count": 4,
   "metadata": {},
   "outputs": [],
   "source": [
    "# Frequency of violations + Total fine amount by license plate\n",
    "\n",
    "frequency_plate = client_df[[\"plate\", \"amount_due\", \n",
    "                             \"fine_amount\", \"interest_amount\", \n",
    "                             \"payment_amount\", \"penalty_amount\",\n",
    "                             \"summons_number\", \"state\"]]\n",
    "\n",
    "frequency_plate_grouping = frequency_plate.groupby([\"plate\"])"
   ]
  },
  {
   "cell_type": "code",
   "execution_count": 5,
   "metadata": {},
   "outputs": [
    {
     "data": {
      "text/plain": [
       "plate\n",
       "0001DAD    1\n",
       "0001FTD    1\n",
       "0001VMD    1\n",
       "00030CD    1\n",
       "0003KED    3\n",
       "Name: summons_number, dtype: int64"
      ]
     },
     "execution_count": 5,
     "metadata": {},
     "output_type": "execute_result"
    }
   ],
   "source": [
    "meow = frequency_plate_grouping[\"summons_number\"].count()\n",
    "meow.head()"
   ]
  },
  {
   "cell_type": "code",
   "execution_count": 6,
   "metadata": {},
   "outputs": [
    {
     "data": {
      "text/plain": [
       "plate\n",
       "0001DAD    115\n",
       "0001FTD    115\n",
       "0001VMD     45\n",
       "00030CD    115\n",
       "0003KED    285\n",
       "Name: fine_amount, dtype: int64"
      ]
     },
     "execution_count": 6,
     "metadata": {},
     "output_type": "execute_result"
    }
   ],
   "source": [
    "woof = frequency_plate_grouping[\"fine_amount\"].sum()\n",
    "woof.head()"
   ]
  },
  {
   "cell_type": "code",
   "execution_count": 7,
   "metadata": {},
   "outputs": [
    {
     "data": {
      "text/html": [
       "<div>\n",
       "<style scoped>\n",
       "    .dataframe tbody tr th:only-of-type {\n",
       "        vertical-align: middle;\n",
       "    }\n",
       "\n",
       "    .dataframe tbody tr th {\n",
       "        vertical-align: top;\n",
       "    }\n",
       "\n",
       "    .dataframe thead th {\n",
       "        text-align: right;\n",
       "    }\n",
       "</style>\n",
       "<table border=\"1\" class=\"dataframe\">\n",
       "  <thead>\n",
       "    <tr style=\"text-align: right;\">\n",
       "      <th></th>\n",
       "      <th>Total Violation Cost</th>\n",
       "      <th>Frequency</th>\n",
       "    </tr>\n",
       "    <tr>\n",
       "      <th>plate</th>\n",
       "      <th></th>\n",
       "      <th></th>\n",
       "    </tr>\n",
       "  </thead>\n",
       "  <tbody>\n",
       "    <tr>\n",
       "      <th>2028685</th>\n",
       "      <td>8155</td>\n",
       "      <td>85</td>\n",
       "    </tr>\n",
       "    <tr>\n",
       "      <th>12125MJ</th>\n",
       "      <td>8720</td>\n",
       "      <td>76</td>\n",
       "    </tr>\n",
       "    <tr>\n",
       "      <th>12359MG</th>\n",
       "      <td>8345</td>\n",
       "      <td>73</td>\n",
       "    </tr>\n",
       "    <tr>\n",
       "      <th>AP582Z</th>\n",
       "      <td>6355</td>\n",
       "      <td>67</td>\n",
       "    </tr>\n",
       "    <tr>\n",
       "      <th>0480PRA</th>\n",
       "      <td>6340</td>\n",
       "      <td>66</td>\n",
       "    </tr>\n",
       "  </tbody>\n",
       "</table>\n",
       "</div>"
      ],
      "text/plain": [
       "         Total Violation Cost  Frequency\n",
       "plate                                   \n",
       "2028685                  8155         85\n",
       "12125MJ                  8720         76\n",
       "12359MG                  8345         73\n",
       "AP582Z                   6355         67\n",
       "0480PRA                  6340         66"
      ]
     },
     "execution_count": 7,
     "metadata": {},
     "output_type": "execute_result"
    }
   ],
   "source": [
    "frequency = pd.DataFrame({\"Total Violation Cost\": woof, \"Frequency\": meow })\n",
    "frequency_sorted = frequency.sort_values(\"Frequency\", ascending=False)\n",
    "frequency_sorted.head()"
   ]
  },
  {
   "cell_type": "code",
   "execution_count": 8,
   "metadata": {},
   "outputs": [
    {
     "data": {
      "text/html": [
       "<div>\n",
       "<style scoped>\n",
       "    .dataframe tbody tr th:only-of-type {\n",
       "        vertical-align: middle;\n",
       "    }\n",
       "\n",
       "    .dataframe tbody tr th {\n",
       "        vertical-align: top;\n",
       "    }\n",
       "\n",
       "    .dataframe thead th {\n",
       "        text-align: right;\n",
       "    }\n",
       "</style>\n",
       "<table border=\"1\" class=\"dataframe\">\n",
       "  <thead>\n",
       "    <tr style=\"text-align: right;\">\n",
       "      <th></th>\n",
       "      <th>Total Violation Cost</th>\n",
       "      <th>Frequency</th>\n",
       "    </tr>\n",
       "    <tr>\n",
       "      <th>plate</th>\n",
       "      <th></th>\n",
       "      <th></th>\n",
       "    </tr>\n",
       "  </thead>\n",
       "  <tbody>\n",
       "    <tr>\n",
       "      <th>12125MJ</th>\n",
       "      <td>8720</td>\n",
       "      <td>76</td>\n",
       "    </tr>\n",
       "    <tr>\n",
       "      <th>12359MG</th>\n",
       "      <td>8345</td>\n",
       "      <td>73</td>\n",
       "    </tr>\n",
       "    <tr>\n",
       "      <th>2028685</th>\n",
       "      <td>8155</td>\n",
       "      <td>85</td>\n",
       "    </tr>\n",
       "    <tr>\n",
       "      <th>28054MC</th>\n",
       "      <td>7245</td>\n",
       "      <td>63</td>\n",
       "    </tr>\n",
       "    <tr>\n",
       "      <th>AP582Z</th>\n",
       "      <td>6355</td>\n",
       "      <td>67</td>\n",
       "    </tr>\n",
       "  </tbody>\n",
       "</table>\n",
       "</div>"
      ],
      "text/plain": [
       "         Total Violation Cost  Frequency\n",
       "plate                                   \n",
       "12125MJ                  8720         76\n",
       "12359MG                  8345         73\n",
       "2028685                  8155         85\n",
       "28054MC                  7245         63\n",
       "AP582Z                   6355         67"
      ]
     },
     "execution_count": 8,
     "metadata": {},
     "output_type": "execute_result"
    }
   ],
   "source": [
    "total_violation_cost_sorted = frequency.sort_values(\"Total Violation Cost\", ascending=False)\n",
    "total_violation_cost_sorted.head()"
   ]
  },
  {
   "cell_type": "code",
   "execution_count": 27,
   "metadata": {},
   "outputs": [],
   "source": [
    "bins = [0,2,250]\n",
    "groups = [\"Up to 2 Tickets\", \"More than 2 tickets\"]\n",
    "\n",
    "frequency_sorted[\"breakdown\"] = pd.cut(frequency_sorted[\"Frequency\"], bins, labels=groups)\n"
   ]
  },
  {
   "cell_type": "code",
   "execution_count": 10,
   "metadata": {},
   "outputs": [
    {
     "data": {
      "text/plain": [
       "Up to 2 Tickets        323752\n",
       "More than 2 tickets     25233\n",
       "Name: breakdown, dtype: int64"
      ]
     },
     "execution_count": 10,
     "metadata": {},
     "output_type": "execute_result"
    }
   ],
   "source": [
    "breakdown_variable = frequency_sorted[\"breakdown\"].value_counts()\n",
    "breakdown_variable"
   ]
  },
  {
   "cell_type": "code",
   "execution_count": 11,
   "metadata": {},
   "outputs": [
    {
     "data": {
      "text/plain": [
       "breakdown\n",
       "Up to 2 Tickets        26002675\n",
       "More than 2 tickets    10999925\n",
       "Name: Total Violation Cost, dtype: int64"
      ]
     },
     "execution_count": 11,
     "metadata": {},
     "output_type": "execute_result"
    }
   ],
   "source": [
    "groupedby_breakdown = frequency_sorted.groupby([\"breakdown\"])\n",
    "moo = groupedby_breakdown[\"Total Violation Cost\"].sum()\n",
    "moo"
   ]
  },
  {
   "cell_type": "code",
   "execution_count": 12,
   "metadata": {},
   "outputs": [
    {
     "data": {
      "text/html": [
       "<div>\n",
       "<style scoped>\n",
       "    .dataframe tbody tr th:only-of-type {\n",
       "        vertical-align: middle;\n",
       "    }\n",
       "\n",
       "    .dataframe tbody tr th {\n",
       "        vertical-align: top;\n",
       "    }\n",
       "\n",
       "    .dataframe thead th {\n",
       "        text-align: right;\n",
       "    }\n",
       "</style>\n",
       "<table border=\"1\" class=\"dataframe\">\n",
       "  <thead>\n",
       "    <tr style=\"text-align: right;\">\n",
       "      <th></th>\n",
       "      <th>Total $ Generated</th>\n",
       "    </tr>\n",
       "    <tr>\n",
       "      <th>breakdown</th>\n",
       "      <th></th>\n",
       "    </tr>\n",
       "  </thead>\n",
       "  <tbody>\n",
       "    <tr>\n",
       "      <th>Up to 2 Tickets</th>\n",
       "      <td>26002675</td>\n",
       "    </tr>\n",
       "    <tr>\n",
       "      <th>More than 2 tickets</th>\n",
       "      <td>10999925</td>\n",
       "    </tr>\n",
       "  </tbody>\n",
       "</table>\n",
       "</div>"
      ],
      "text/plain": [
       "                     Total $ Generated\n",
       "breakdown                             \n",
       "Up to 2 Tickets               26002675\n",
       "More than 2 tickets           10999925"
      ]
     },
     "execution_count": 12,
     "metadata": {},
     "output_type": "execute_result"
    }
   ],
   "source": [
    "df_for_graph = pd.DataFrame({\"Total $ Generated\": moo})\n",
    "df_for_graph.head()"
   ]
  },
  {
   "cell_type": "code",
   "execution_count": 13,
   "metadata": {},
   "outputs": [
    {
     "data": {
      "image/png": "[encoded data removed]",
      "text/plain": [
       "<Figure size 360x360 with 1 Axes>"
      ]
     },
     "metadata": {
      "needs_background": "light"
     },
     "output_type": "display_data"
    }
   ],
   "source": [
    "ax = df_for_graph.plot(kind=\"bar\", figsize=(5,5), rot=0)\n",
    "                  \n",
    "plt.title(\"total $ generated\")\n",
    "\n",
    "plt.ylabel(\"$ Generated in thousands\")\n",
    "\n",
    "for p in ax.patches: \n",
    "    ax.annotate(np.round(p.get_height(),decimals=2), (p.get_x()+p.get_width()/2., p.get_height()), ha='center', va='center', xytext=(0, 10), textcoords='offset points')\n",
    "    \n",
    "plt.ylim(0, max(df_for_graph[\"Total $ Generated\"])+ 5000000)\n",
    "\n",
    "plt.show()"
   ]
  },
  {
   "cell_type": "code",
   "execution_count": 14,
   "metadata": {},
   "outputs": [
    {
     "data": {
      "text/plain": [
       "Text(0, 0.5, '')"
      ]
     },
     "execution_count": 14,
     "metadata": {},
     "output_type": "execute_result"
    },
    {
     "data": {
      "image/png": "[encoded data removed]",
      "text/plain": [
       "<Figure size 432x288 with 1 Axes>"
      ]
     },
     "metadata": {},
     "output_type": "display_data"
    }
   ],
   "source": [
    "#pie chart\n",
    "\n",
    "pie = breakdown_variable.plot(kind=\"pie\", title=\"% of Total Number of Tickets\", autopct=\"%1.1f%%\", startangle=45)\n",
    "pie.set_ylabel(\"\")"
   ]
  },
  {
   "cell_type": "code",
   "execution_count": 15,
   "metadata": {},
   "outputs": [
    {
     "data": {
      "text/plain": [
       "Text(0, 0.5, '')"
      ]
     },
     "execution_count": 15,
     "metadata": {},
     "output_type": "execute_result"
    },
    {
     "data": {
      "image/png": "[encoded data removed]",
      "text/plain": [
       "<Figure size 432x288 with 1 Axes>"
      ]
     },
     "metadata": {},
     "output_type": "display_data"
    }
   ],
   "source": [
    "pie2 = moo.plot(kind=\"pie\", title=\"% of $ generated\", autopct=\"%1.1f%%\", startangle=45)\n",
    "plt.legend(loc=\"upper left\", bbox_to_anchor=(0.85,1.025))\n",
    "pie2.set_ylabel(\"\")"
   ]
  },
  {
   "cell_type": "code",
   "execution_count": 16,
   "metadata": {},
   "outputs": [],
   "source": [
    "# pies by state\n",
    "#timeline of getting tickets\n",
    "#top five flyers made $ vs 10,000 bottom others (do two buckets for visualization)\n",
    "\n",
    "\n",
    "#Frequency of violations by state\n",
    "\n",
    "\n",
    "# Total $ amount of violations by license plate\n",
    "# Total $ amount of violations by state\n"
   ]
  },
  {
   "cell_type": "code",
   "execution_count": 17,
   "metadata": {},
   "outputs": [],
   "source": [
    "# Frequency of violations + Total fine amount by State"
   ]
  },
  {
   "cell_type": "code",
   "execution_count": 26,
   "metadata": {
    "scrolled": true
   },
   "outputs": [
    {
     "name": "stderr",
     "output_type": "stream",
     "text": [
      "C:\\Users\\jesus.baquiax\\Anaconda3\\lib\\site-packages\\ipykernel_launcher.py:5: SettingWithCopyWarning: \n",
      "A value is trying to be set on a copy of a slice from a DataFrame.\n",
      "Try using .loc[row_indexer,col_indexer] = value instead\n",
      "\n",
      "See the caveats in the documentation: http://pandas.pydata.org/pandas-docs/stable/indexing.html#indexing-view-versus-copy\n",
      "  \"\"\"\n"
     ]
    }
   ],
   "source": [
    "state_df = client_df[[\"state\", \"amount_due\", \n",
    "                             \"fine_amount\", \"interest_amount\", \n",
    "                             \"payment_amount\", \"penalty_amount\", \"summons_number\"]]\n",
    "\n",
    "state_df[\"Label\"] = np.where(state_df[\"state\"]==\"NY\",\"NY\",\"Out of State\")\n",
    "\n",
    "\n",
    "state_grouping = state_df.groupby([\"Label\"])\n"
   ]
  },
  {
   "cell_type": "code",
   "execution_count": 19,
   "metadata": {},
   "outputs": [
    {
     "data": {
      "text/plain": [
       "Label\n",
       "NY              28480825\n",
       "Out of State     8521775\n",
       "Name: fine_amount, dtype: int64"
      ]
     },
     "execution_count": 19,
     "metadata": {},
     "output_type": "execute_result"
    }
   ],
   "source": [
    "fine_amount_sum = state_grouping[\"fine_amount\"].sum()\n",
    "fine_amount_sum.head()"
   ]
  },
  {
   "cell_type": "code",
   "execution_count": 20,
   "metadata": {},
   "outputs": [
    {
     "data": {
      "text/plain": [
       "Label\n",
       "NY              394358\n",
       "Out of State    105642\n",
       "Name: summons_number, dtype: int64"
      ]
     },
     "execution_count": 20,
     "metadata": {},
     "output_type": "execute_result"
    }
   ],
   "source": [
    "state_frequency = state_grouping[\"summons_number\"].count()\n",
    "state_frequency.head()"
   ]
  },
  {
   "cell_type": "code",
   "execution_count": 21,
   "metadata": {},
   "outputs": [
    {
     "data": {
      "text/html": [
       "<div>\n",
       "<style scoped>\n",
       "    .dataframe tbody tr th:only-of-type {\n",
       "        vertical-align: middle;\n",
       "    }\n",
       "\n",
       "    .dataframe tbody tr th {\n",
       "        vertical-align: top;\n",
       "    }\n",
       "\n",
       "    .dataframe thead th {\n",
       "        text-align: right;\n",
       "    }\n",
       "</style>\n",
       "<table border=\"1\" class=\"dataframe\">\n",
       "  <thead>\n",
       "    <tr style=\"text-align: right;\">\n",
       "      <th></th>\n",
       "      <th>Total Violation Cost</th>\n",
       "      <th>Frequency</th>\n",
       "    </tr>\n",
       "    <tr>\n",
       "      <th>Label</th>\n",
       "      <th></th>\n",
       "      <th></th>\n",
       "    </tr>\n",
       "  </thead>\n",
       "  <tbody>\n",
       "    <tr>\n",
       "      <th>NY</th>\n",
       "      <td>28480825</td>\n",
       "      <td>394358</td>\n",
       "    </tr>\n",
       "    <tr>\n",
       "      <th>Out of State</th>\n",
       "      <td>8521775</td>\n",
       "      <td>105642</td>\n",
       "    </tr>\n",
       "  </tbody>\n",
       "</table>\n",
       "</div>"
      ],
      "text/plain": [
       "              Total Violation Cost  Frequency\n",
       "Label                                        \n",
       "NY                        28480825     394358\n",
       "Out of State               8521775     105642"
      ]
     },
     "execution_count": 21,
     "metadata": {},
     "output_type": "execute_result"
    }
   ],
   "source": [
    "state_combined_df = pd.DataFrame({\"Total Violation Cost\": fine_amount_sum, \"Frequency\": state_frequency})\n",
    "\n",
    "state_fine_sort = state_combined_df.sort_values(\"Total Violation Cost\", ascending=False)\n",
    "state_fine_sort.head()"
   ]
  },
  {
   "cell_type": "code",
   "execution_count": 22,
   "metadata": {},
   "outputs": [
    {
     "data": {
      "text/html": [
       "<div>\n",
       "<style scoped>\n",
       "    .dataframe tbody tr th:only-of-type {\n",
       "        vertical-align: middle;\n",
       "    }\n",
       "\n",
       "    .dataframe tbody tr th {\n",
       "        vertical-align: top;\n",
       "    }\n",
       "\n",
       "    .dataframe thead th {\n",
       "        text-align: right;\n",
       "    }\n",
       "</style>\n",
       "<table border=\"1\" class=\"dataframe\">\n",
       "  <thead>\n",
       "    <tr style=\"text-align: right;\">\n",
       "      <th></th>\n",
       "      <th>Total Violation Cost</th>\n",
       "      <th>Frequency</th>\n",
       "    </tr>\n",
       "    <tr>\n",
       "      <th>Label</th>\n",
       "      <th></th>\n",
       "      <th></th>\n",
       "    </tr>\n",
       "  </thead>\n",
       "  <tbody>\n",
       "    <tr>\n",
       "      <th>NY</th>\n",
       "      <td>28480825</td>\n",
       "      <td>394358</td>\n",
       "    </tr>\n",
       "    <tr>\n",
       "      <th>Out of State</th>\n",
       "      <td>8521775</td>\n",
       "      <td>105642</td>\n",
       "    </tr>\n",
       "  </tbody>\n",
       "</table>\n",
       "</div>"
      ],
      "text/plain": [
       "              Total Violation Cost  Frequency\n",
       "Label                                        \n",
       "NY                        28480825     394358\n",
       "Out of State               8521775     105642"
      ]
     },
     "execution_count": 22,
     "metadata": {},
     "output_type": "execute_result"
    }
   ],
   "source": [
    "state_frequency_sort = state_combined_df.sort_values(\"Frequency\", ascending=False)\n",
    "state_frequency_sort.head()"
   ]
  },
  {
   "cell_type": "code",
   "execution_count": 23,
   "metadata": {},
   "outputs": [
    {
     "data": {
      "text/plain": [
       "Text(0, 0.5, '')"
      ]
     },
     "execution_count": 23,
     "metadata": {},
     "output_type": "execute_result"
    },
    {
     "data": {
      "image/png": "[encoded data removed]",
      "text/plain": [
       "<Figure size 432x288 with 1 Axes>"
      ]
     },
     "metadata": {},
     "output_type": "display_data"
    }
   ],
   "source": [
    "pie3 = state_frequency.plot(kind=\"pie\", title=\"test\", autopct=\"%1.1f%%\", startangle=45)\n",
    "pie3.set_ylabel(\"\")"
   ]
  },
  {
   "cell_type": "code",
   "execution_count": 24,
   "metadata": {},
   "outputs": [
    {
     "data": {
      "text/plain": [
       "Text(0, 0.5, '')"
      ]
     },
     "execution_count": 24,
     "metadata": {},
     "output_type": "execute_result"
    },
    {
     "data": {
      "image/png": "[encoded data removed]",
      "text/plain": [
       "<Figure size 432x288 with 1 Axes>"
      ]
     },
     "metadata": {},
     "output_type": "display_data"
    }
   ],
   "source": [
    "pie4 = fine_amount_sum.plot(kind=\"pie\", title=\"test\", autopct=\"%1.1f%%\", startangle=45)\n",
    "pie4.set_ylabel(\"\")"
   ]
  },
  {
   "cell_type": "code",
   "execution_count": 25,
   "metadata": {},
   "outputs": [
    {
     "data": {
      "image/png": "[encoded data removed]",
      "text/plain": [
       "<Figure size 360x360 with 1 Axes>"
      ]
     },
     "metadata": {
      "needs_background": "light"
     },
     "output_type": "display_data"
    }
   ],
   "source": [
    "df_for_graph2 = pd.DataFrame({\"total violation Cost\": fine_amount_sum})\n",
    "\n",
    "ay = df_for_graph2.plot(kind=\"bar\", figsize=(5,5), rot=0)\n",
    "                  \n",
    "plt.title(\"total $ generated\")\n",
    "\n",
    "plt.ylabel(\"\")\n",
    "\n",
    "for p in ay.patches: \n",
    "    ay.annotate(np.round(p.get_height(),decimals=2), (p.get_x()+p.get_width()/2., p.get_height()), ha='center', va='center', xytext=(0, 10), textcoords='offset points')\n",
    "    \n",
    "plt.ylim(0, max(df_for_graph[\"Total $ Generated\"])+ 5000000)\n",
    "\n",
    "plt.show()"
   ]
  },
  {
   "cell_type": "code",
   "execution_count": null,
   "metadata": {},
   "outputs": [],
   "source": []
  }
 ],
 "metadata": {
  "kernelspec": {
   "display_name": "Python 3",
   "language": "python",
   "name": "python3"
  },
  "language_info": {
   "codemirror_mode": {
    "name": "ipython",
    "version": 3
   },
   "file_extension": ".py",
   "mimetype": "text/x-python",
   "name": "python",
   "nbconvert_exporter": "python",
   "pygments_lexer": "ipython3",
   "version": "3.7.3"
  }
 },
 "nbformat": 4,
 "nbformat_minor": 2
}
