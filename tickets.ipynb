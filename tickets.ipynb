{
 "cells": [
  {
   "cell_type": "code",
   "execution_count": 1,
   "metadata": {},
   "outputs": [],
   "source": [
    "import requests\n",
    "import json\n",
    "import pandas as pd\n",
    "from sodapy import Socrata\n",
    "import numpy as np\n",
    "import matplotlib.pyplot as plt"
   ]
  },
  {
   "cell_type": "code",
   "execution_count": 2,
   "metadata": {},
   "outputs": [
    {
     "data": {
      "text/html": [
       "<div>\n",
       "<style scoped>\n",
       "    .dataframe tbody tr th:only-of-type {\n",
       "        vertical-align: middle;\n",
       "    }\n",
       "\n",
       "    .dataframe tbody tr th {\n",
       "        vertical-align: top;\n",
       "    }\n",
       "\n",
       "    .dataframe thead th {\n",
       "        text-align: right;\n",
       "    }\n",
       "</style>\n",
       "<table border=\"1\" class=\"dataframe\">\n",
       "  <thead>\n",
       "    <tr style=\"text-align: right;\">\n",
       "      <th></th>\n",
       "      <th>amount_due</th>\n",
       "      <th>county</th>\n",
       "      <th>fine_amount</th>\n",
       "      <th>interest_amount</th>\n",
       "      <th>issue_date</th>\n",
       "      <th>issuing_agency</th>\n",
       "      <th>judgment_entry_date</th>\n",
       "      <th>license_type</th>\n",
       "      <th>payment_amount</th>\n",
       "      <th>penalty_amount</th>\n",
       "      <th>plate</th>\n",
       "      <th>precinct</th>\n",
       "      <th>reduction_amount</th>\n",
       "      <th>state</th>\n",
       "      <th>summons_image</th>\n",
       "      <th>summons_number</th>\n",
       "      <th>violation</th>\n",
       "      <th>violation_status</th>\n",
       "      <th>violation_time</th>\n",
       "    </tr>\n",
       "  </thead>\n",
       "  <tbody>\n",
       "    <tr>\n",
       "      <th>0</th>\n",
       "      <td>0</td>\n",
       "      <td>Q</td>\n",
       "      <td>115</td>\n",
       "      <td>0</td>\n",
       "      <td>07/08/2018</td>\n",
       "      <td>TRAFFIC</td>\n",
       "      <td>NaN</td>\n",
       "      <td>PAS</td>\n",
       "      <td>125</td>\n",
       "      <td>10</td>\n",
       "      <td>HNZ8114</td>\n",
       "      <td>102</td>\n",
       "      <td>0</td>\n",
       "      <td>NY</td>\n",
       "      <td>{'url': 'http://nycserv.nyc.gov/NYCServWeb/Sho...</td>\n",
       "      <td>8562940010</td>\n",
       "      <td>NO STANDING-BUS STOP</td>\n",
       "      <td>HEARING HELD-GUILTY</td>\n",
       "      <td>07:08A</td>\n",
       "    </tr>\n",
       "    <tr>\n",
       "      <th>1</th>\n",
       "      <td>0</td>\n",
       "      <td>Q</td>\n",
       "      <td>115</td>\n",
       "      <td>0</td>\n",
       "      <td>09/08/2018</td>\n",
       "      <td>TRAFFIC</td>\n",
       "      <td>NaN</td>\n",
       "      <td>PAS</td>\n",
       "      <td>115</td>\n",
       "      <td>0</td>\n",
       "      <td>AN913J</td>\n",
       "      <td>109</td>\n",
       "      <td>0</td>\n",
       "      <td>NJ</td>\n",
       "      <td>{'url': 'http://nycserv.nyc.gov/NYCServWeb/Sho...</td>\n",
       "      <td>8672369944</td>\n",
       "      <td>NO STANDING-DAY/TIME LIMITS</td>\n",
       "      <td>HEARING HELD-GUILTY</td>\n",
       "      <td>10:30A</td>\n",
       "    </tr>\n",
       "    <tr>\n",
       "      <th>2</th>\n",
       "      <td>0</td>\n",
       "      <td>NY</td>\n",
       "      <td>35</td>\n",
       "      <td>5.4</td>\n",
       "      <td>01/22/2018</td>\n",
       "      <td>TRAFFIC</td>\n",
       "      <td>05/10/2018</td>\n",
       "      <td>PAS</td>\n",
       "      <td>100.4</td>\n",
       "      <td>60</td>\n",
       "      <td>XEJY37</td>\n",
       "      <td>024</td>\n",
       "      <td>0</td>\n",
       "      <td>NJ</td>\n",
       "      <td>{'url': 'http://nycserv.nyc.gov/NYCServWeb/Sho...</td>\n",
       "      <td>8518622426</td>\n",
       "      <td>FAIL TO DSPLY MUNI METER RECPT</td>\n",
       "      <td>NaN</td>\n",
       "      <td>06:16P</td>\n",
       "    </tr>\n",
       "    <tr>\n",
       "      <th>3</th>\n",
       "      <td>0</td>\n",
       "      <td>K</td>\n",
       "      <td>115</td>\n",
       "      <td>0</td>\n",
       "      <td>05/17/2018</td>\n",
       "      <td>TRAFFIC</td>\n",
       "      <td>NaN</td>\n",
       "      <td>PAS</td>\n",
       "      <td>115</td>\n",
       "      <td>0</td>\n",
       "      <td>FCE6178</td>\n",
       "      <td>062</td>\n",
       "      <td>0</td>\n",
       "      <td>NY</td>\n",
       "      <td>{'url': 'http://nycserv.nyc.gov/NYCServWeb/Sho...</td>\n",
       "      <td>8645190278</td>\n",
       "      <td>FIRE HYDRANT</td>\n",
       "      <td>NaN</td>\n",
       "      <td>06:46A</td>\n",
       "    </tr>\n",
       "    <tr>\n",
       "      <th>4</th>\n",
       "      <td>0</td>\n",
       "      <td>K</td>\n",
       "      <td>60</td>\n",
       "      <td>0</td>\n",
       "      <td>05/17/2018</td>\n",
       "      <td>TRAFFIC</td>\n",
       "      <td>NaN</td>\n",
       "      <td>PAS</td>\n",
       "      <td>60</td>\n",
       "      <td>0</td>\n",
       "      <td>JSH7348</td>\n",
       "      <td>062</td>\n",
       "      <td>0</td>\n",
       "      <td>PA</td>\n",
       "      <td>{'url': 'http://nycserv.nyc.gov/NYCServWeb/Sho...</td>\n",
       "      <td>8645190310</td>\n",
       "      <td>NO PARKING-DAY/TIME LIMITS</td>\n",
       "      <td>NaN</td>\n",
       "      <td>07:15A</td>\n",
       "    </tr>\n",
       "  </tbody>\n",
       "</table>\n",
       "</div>"
      ],
      "text/plain": [
       "  amount_due county fine_amount interest_amount  issue_date issuing_agency  \\\n",
       "0          0      Q         115               0  07/08/2018        TRAFFIC   \n",
       "1          0      Q         115               0  09/08/2018        TRAFFIC   \n",
       "2          0     NY          35             5.4  01/22/2018        TRAFFIC   \n",
       "3          0      K         115               0  05/17/2018        TRAFFIC   \n",
       "4          0      K          60               0  05/17/2018        TRAFFIC   \n",
       "\n",
       "  judgment_entry_date license_type payment_amount penalty_amount    plate  \\\n",
       "0                 NaN          PAS            125             10  HNZ8114   \n",
       "1                 NaN          PAS            115              0   AN913J   \n",
       "2          05/10/2018          PAS          100.4             60   XEJY37   \n",
       "3                 NaN          PAS            115              0  FCE6178   \n",
       "4                 NaN          PAS             60              0  JSH7348   \n",
       "\n",
       "  precinct reduction_amount state  \\\n",
       "0      102                0    NY   \n",
       "1      109                0    NJ   \n",
       "2      024                0    NJ   \n",
       "3      062                0    NY   \n",
       "4      062                0    PA   \n",
       "\n",
       "                                       summons_image summons_number  \\\n",
       "0  {'url': 'http://nycserv.nyc.gov/NYCServWeb/Sho...     8562940010   \n",
       "1  {'url': 'http://nycserv.nyc.gov/NYCServWeb/Sho...     8672369944   \n",
       "2  {'url': 'http://nycserv.nyc.gov/NYCServWeb/Sho...     8518622426   \n",
       "3  {'url': 'http://nycserv.nyc.gov/NYCServWeb/Sho...     8645190278   \n",
       "4  {'url': 'http://nycserv.nyc.gov/NYCServWeb/Sho...     8645190310   \n",
       "\n",
       "                        violation     violation_status violation_time  \n",
       "0            NO STANDING-BUS STOP  HEARING HELD-GUILTY         07:08A  \n",
       "1     NO STANDING-DAY/TIME LIMITS  HEARING HELD-GUILTY         10:30A  \n",
       "2  FAIL TO DSPLY MUNI METER RECPT                  NaN         06:16P  \n",
       "3                    FIRE HYDRANT                  NaN         06:46A  \n",
       "4      NO PARKING-DAY/TIME LIMITS                  NaN         07:15A  "
      ]
     },
     "execution_count": 2,
     "metadata": {},
     "output_type": "execute_result"
    }
   ],
   "source": [
    "client = Socrata(\"data.cityofnewyork.us\", \"nw0pZM57EWuIKqCqQvWUFqAE0\")\n",
    "results = client.get(\"uvbq-3m68\", limit = 1000000, where=\"issue_date like'%/2018'\")\n",
    "client_df = pd.DataFrame.from_records(results)\n",
    "client_df.head()"
   ]
  },
  {
   "cell_type": "code",
   "execution_count": 3,
   "metadata": {},
   "outputs": [],
   "source": [
    "client_df[\"amount_due\"] = pd.to_numeric(client_df[\"amount_due\"])\n",
    "client_df[\"fine_amount\"] = pd.to_numeric(client_df[\"fine_amount\"])\n",
    "client_df[\"interest_amount\"] = pd.to_numeric(client_df[\"interest_amount\"])\n",
    "client_df[\"payment_amount\"] = pd.to_numeric(client_df[\"payment_amount\"])\n",
    "client_df[\"penalty_amount\"] = pd.to_numeric(client_df[\"penalty_amount\"])\n",
    "client_df[\"reduction_amount\"] = pd.to_numeric(client_df[\"reduction_amount\"])"
   ]
  },
  {
   "cell_type": "code",
   "execution_count": 6,
   "metadata": {},
   "outputs": [],
   "source": [
    "# Frequency of violations + Total fine amount by license plate\n",
    "\n",
    "JB_df = client_df[[\"plate\", \"amount_due\", \n",
    "                             \"fine_amount\", \"interest_amount\", \n",
    "                             \"payment_amount\", \"penalty_amount\",\n",
    "                             \"summons_number\", \"state\"]]\n",
    "\n",
    "plate_grouping = JB_df.groupby([\"plate\"])"
   ]
  },
  {
   "cell_type": "code",
   "execution_count": 8,
   "metadata": {},
   "outputs": [
    {
     "data": {
      "text/plain": [
       "plate\n",
       "00004NYP    1\n",
       "0001ACD     1\n",
       "0001DPD     1\n",
       "0001DQD     1\n",
       "0001FGD     1\n",
       "Name: summons_number, dtype: int64"
      ]
     },
     "execution_count": 8,
     "metadata": {},
     "output_type": "execute_result"
    }
   ],
   "source": [
    "summons_number_count = plate_grouping[\"summons_number\"].count()\n",
    "summons_number_count.head()"
   ]
  },
  {
   "cell_type": "code",
   "execution_count": 9,
   "metadata": {},
   "outputs": [
    {
     "data": {
      "text/plain": [
       "plate\n",
       "00004NYP     65\n",
       "0001ACD      95\n",
       "0001DPD     115\n",
       "0001DQD     115\n",
       "0001FGD     115\n",
       "Name: fine_amount, dtype: int64"
      ]
     },
     "execution_count": 9,
     "metadata": {},
     "output_type": "execute_result"
    }
   ],
   "source": [
    "fine_amount_count = plate_grouping[\"fine_amount\"].sum()\n",
    "fine_amount_count.head()"
   ]
  },
  {
   "cell_type": "code",
   "execution_count": 11,
   "metadata": {},
   "outputs": [
    {
     "data": {
      "text/html": [
       "<div>\n",
       "<style scoped>\n",
       "    .dataframe tbody tr th:only-of-type {\n",
       "        vertical-align: middle;\n",
       "    }\n",
       "\n",
       "    .dataframe tbody tr th {\n",
       "        vertical-align: top;\n",
       "    }\n",
       "\n",
       "    .dataframe thead th {\n",
       "        text-align: right;\n",
       "    }\n",
       "</style>\n",
       "<table border=\"1\" class=\"dataframe\">\n",
       "  <thead>\n",
       "    <tr style=\"text-align: right;\">\n",
       "      <th></th>\n",
       "      <th>Total Violation Cost</th>\n",
       "      <th>Frequency</th>\n",
       "    </tr>\n",
       "    <tr>\n",
       "      <th>plate</th>\n",
       "      <th></th>\n",
       "      <th></th>\n",
       "    </tr>\n",
       "  </thead>\n",
       "  <tbody>\n",
       "    <tr>\n",
       "      <th>BLANKPLATE</th>\n",
       "      <td>30180</td>\n",
       "      <td>377</td>\n",
       "    </tr>\n",
       "    <tr>\n",
       "      <th>34913PC</th>\n",
       "      <td>12765</td>\n",
       "      <td>151</td>\n",
       "    </tr>\n",
       "    <tr>\n",
       "      <th>34914PC</th>\n",
       "      <td>13515</td>\n",
       "      <td>139</td>\n",
       "    </tr>\n",
       "    <tr>\n",
       "      <th>12125MJ</th>\n",
       "      <td>13905</td>\n",
       "      <td>125</td>\n",
       "    </tr>\n",
       "    <tr>\n",
       "      <th>2704426</th>\n",
       "      <td>11320</td>\n",
       "      <td>124</td>\n",
       "    </tr>\n",
       "  </tbody>\n",
       "</table>\n",
       "</div>"
      ],
      "text/plain": [
       "            Total Violation Cost  Frequency\n",
       "plate                                      \n",
       "BLANKPLATE                 30180        377\n",
       "34913PC                    12765        151\n",
       "34914PC                    13515        139\n",
       "12125MJ                    13905        125\n",
       "2704426                    11320        124"
      ]
     },
     "execution_count": 11,
     "metadata": {},
     "output_type": "execute_result"
    }
   ],
   "source": [
    "frequency_violation_df = pd.DataFrame({\"Total Violation Cost\": fine_amount_count, \"Frequency\": summons_number_count  })\n",
    "frequency_sorted = frequency_violation_df.sort_values(\"Frequency\", ascending=False)\n",
    "frequency_sorted.head()"
   ]
  },
  {
   "cell_type": "code",
   "execution_count": 12,
   "metadata": {},
   "outputs": [
    {
     "data": {
      "text/html": [
       "<div>\n",
       "<style scoped>\n",
       "    .dataframe tbody tr th:only-of-type {\n",
       "        vertical-align: middle;\n",
       "    }\n",
       "\n",
       "    .dataframe tbody tr th {\n",
       "        vertical-align: top;\n",
       "    }\n",
       "\n",
       "    .dataframe thead th {\n",
       "        text-align: right;\n",
       "    }\n",
       "</style>\n",
       "<table border=\"1\" class=\"dataframe\">\n",
       "  <thead>\n",
       "    <tr style=\"text-align: right;\">\n",
       "      <th></th>\n",
       "      <th>Total Violation Cost</th>\n",
       "      <th>Frequency</th>\n",
       "    </tr>\n",
       "    <tr>\n",
       "      <th>plate</th>\n",
       "      <th></th>\n",
       "      <th></th>\n",
       "    </tr>\n",
       "  </thead>\n",
       "  <tbody>\n",
       "    <tr>\n",
       "      <th>BLANKPLATE</th>\n",
       "      <td>30180</td>\n",
       "      <td>377</td>\n",
       "    </tr>\n",
       "    <tr>\n",
       "      <th>12125MJ</th>\n",
       "      <td>13905</td>\n",
       "      <td>125</td>\n",
       "    </tr>\n",
       "    <tr>\n",
       "      <th>34914PC</th>\n",
       "      <td>13515</td>\n",
       "      <td>139</td>\n",
       "    </tr>\n",
       "    <tr>\n",
       "      <th>34913PC</th>\n",
       "      <td>12765</td>\n",
       "      <td>151</td>\n",
       "    </tr>\n",
       "    <tr>\n",
       "      <th>62423JM</th>\n",
       "      <td>12015</td>\n",
       "      <td>108</td>\n",
       "    </tr>\n",
       "  </tbody>\n",
       "</table>\n",
       "</div>"
      ],
      "text/plain": [
       "            Total Violation Cost  Frequency\n",
       "plate                                      \n",
       "BLANKPLATE                 30180        377\n",
       "12125MJ                    13905        125\n",
       "34914PC                    13515        139\n",
       "34913PC                    12765        151\n",
       "62423JM                    12015        108"
      ]
     },
     "execution_count": 12,
     "metadata": {},
     "output_type": "execute_result"
    }
   ],
   "source": [
    "total_violation_cost_sorted = frequency_violation_df.sort_values(\"Total Violation Cost\", ascending=False)\n",
    "total_violation_cost_sorted.head()"
   ]
  },
  {
   "cell_type": "code",
   "execution_count": 15,
   "metadata": {},
   "outputs": [],
   "source": [
    "bins = [0,2,250]\n",
    "groups = [\"Up to 2 Tickets\", \"More than 2 tickets\"]\n",
    "\n",
    "frequency_sorted[\"breakdown\"] = pd.cut(frequency_sorted[\"Frequency\"], bins, labels=groups)\n"
   ]
  },
  {
   "cell_type": "code",
   "execution_count": 16,
   "metadata": {},
   "outputs": [
    {
     "data": {
      "text/plain": [
       "Up to 2 Tickets        560759\n",
       "More than 2 tickets     63673\n",
       "Name: breakdown, dtype: int64"
      ]
     },
     "execution_count": 16,
     "metadata": {},
     "output_type": "execute_result"
    }
   ],
   "source": [
    "breakdown_variable = frequency_sorted[\"breakdown\"].value_counts()\n",
    "breakdown_variable"
   ]
  },
  {
   "cell_type": "code",
   "execution_count": 18,
   "metadata": {},
   "outputs": [
    {
     "data": {
      "text/plain": [
       "breakdown\n",
       "Up to 2 Tickets        46511289\n",
       "More than 2 tickets    27255940\n",
       "Name: Total Violation Cost, dtype: int64"
      ]
     },
     "execution_count": 18,
     "metadata": {},
     "output_type": "execute_result"
    }
   ],
   "source": [
    "groupedby_breakdown = frequency_sorted.groupby([\"breakdown\"])\n",
    "violation_sum = groupedby_breakdown[\"Total Violation Cost\"].sum()\n",
    "violation_sum"
   ]
  },
  {
   "cell_type": "code",
   "execution_count": 19,
   "metadata": {},
   "outputs": [
    {
     "data": {
      "text/html": [
       "<div>\n",
       "<style scoped>\n",
       "    .dataframe tbody tr th:only-of-type {\n",
       "        vertical-align: middle;\n",
       "    }\n",
       "\n",
       "    .dataframe tbody tr th {\n",
       "        vertical-align: top;\n",
       "    }\n",
       "\n",
       "    .dataframe thead th {\n",
       "        text-align: right;\n",
       "    }\n",
       "</style>\n",
       "<table border=\"1\" class=\"dataframe\">\n",
       "  <thead>\n",
       "    <tr style=\"text-align: right;\">\n",
       "      <th></th>\n",
       "      <th>Total $ Generated</th>\n",
       "    </tr>\n",
       "    <tr>\n",
       "      <th>breakdown</th>\n",
       "      <th></th>\n",
       "    </tr>\n",
       "  </thead>\n",
       "  <tbody>\n",
       "    <tr>\n",
       "      <th>Up to 2 Tickets</th>\n",
       "      <td>46511289</td>\n",
       "    </tr>\n",
       "    <tr>\n",
       "      <th>More than 2 tickets</th>\n",
       "      <td>27255940</td>\n",
       "    </tr>\n",
       "  </tbody>\n",
       "</table>\n",
       "</div>"
      ],
      "text/plain": [
       "                     Total $ Generated\n",
       "breakdown                             \n",
       "Up to 2 Tickets               46511289\n",
       "More than 2 tickets           27255940"
      ]
     },
     "execution_count": 19,
     "metadata": {},
     "output_type": "execute_result"
    }
   ],
   "source": [
    "df_for_graph = pd.DataFrame({\"Total $ Generated\": violation_sum})\n",
    "df_for_graph.head()"
   ]
  },
  {
   "cell_type": "code",
   "execution_count": 20,
   "metadata": {},
   "outputs": [
    {
     "data": {
      "image/png": "[encoded data removed]",
      "text/plain": [
       "<Figure size 360x360 with 1 Axes>"
      ]
     },
     "metadata": {
      "needs_background": "light"
     },
     "output_type": "display_data"
    }
   ],
   "source": [
    "ax = df_for_graph.plot(kind=\"bar\", figsize=(5,5), rot=0)\n",
    "                  \n",
    "plt.title(\"total $ generated\")\n",
    "\n",
    "plt.ylabel(\"$ Generated in thousands\")\n",
    "\n",
    "for p in ax.patches: \n",
    "    ax.annotate(np.round(p.get_height(),decimals=2), (p.get_x()+p.get_width()/2., p.get_height()), ha='center', va='center', xytext=(0, 10), textcoords='offset points')\n",
    "    \n",
    "plt.ylim(0, max(df_for_graph[\"Total $ Generated\"])+ 5000000)\n",
    "\n",
    "plt.show()"
   ]
  },
  {
   "cell_type": "code",
   "execution_count": 21,
   "metadata": {},
   "outputs": [
    {
     "data": {
      "text/plain": [
       "Text(0, 0.5, '')"
      ]
     },
     "execution_count": 21,
     "metadata": {},
     "output_type": "execute_result"
    },
    {
     "data": {
      "image/png": "[encoded data removed]",
      "text/plain": [
       "<Figure size 432x288 with 1 Axes>"
      ]
     },
     "metadata": {},
     "output_type": "display_data"
    }
   ],
   "source": [
    "#pie chart\n",
    "\n",
    "pie = breakdown_variable.plot(kind=\"pie\", title=\"% of Total Number of Tickets\", autopct=\"%1.1f%%\", startangle=45)\n",
    "pie.set_ylabel(\"\")"
   ]
  },
  {
   "cell_type": "code",
   "execution_count": 23,
   "metadata": {},
   "outputs": [
    {
     "data": {
      "text/plain": [
       "Text(0, 0.5, '')"
      ]
     },
     "execution_count": 23,
     "metadata": {},
     "output_type": "execute_result"
    },
    {
     "data": {
      "image/png": "[encoded data removed]",
      "text/plain": [
       "<Figure size 432x288 with 1 Axes>"
      ]
     },
     "metadata": {},
     "output_type": "display_data"
    }
   ],
   "source": [
    "pie2 = violation_sum.plot(kind=\"pie\", title=\"% of $ generated\", autopct=\"%1.1f%%\", startangle=45)\n",
    "plt.legend(loc=\"upper left\", bbox_to_anchor=(0.85,1.025))\n",
    "pie2.set_ylabel(\"\")"
   ]
  },
  {
   "cell_type": "code",
   "execution_count": null,
   "metadata": {},
   "outputs": [],
   "source": [
    "# pies by state\n",
    "#timeline of getting tickets\n",
    "#top five flyers made $ vs 10,000 bottom others (do two buckets for visualization)\n",
    "\n",
    "\n",
    "#Frequency of violations by state\n",
    "\n",
    "\n",
    "# Total $ amount of violations by license plate\n",
    "# Total $ amount of violations by state\n"
   ]
  },
  {
   "cell_type": "code",
   "execution_count": null,
   "metadata": {},
   "outputs": [],
   "source": [
    "# Frequency of violations + Total fine amount by State"
   ]
  },
  {
   "cell_type": "code",
   "execution_count": 24,
   "metadata": {
    "scrolled": true
   },
   "outputs": [
    {
     "name": "stderr",
     "output_type": "stream",
     "text": [
      "C:\\Users\\jesus.baquiax\\Anaconda3\\lib\\site-packages\\ipykernel_launcher.py:5: SettingWithCopyWarning: \n",
      "A value is trying to be set on a copy of a slice from a DataFrame.\n",
      "Try using .loc[row_indexer,col_indexer] = value instead\n",
      "\n",
      "See the caveats in the documentation: http://pandas.pydata.org/pandas-docs/stable/indexing.html#indexing-view-versus-copy\n",
      "  \"\"\"\n"
     ]
    }
   ],
   "source": [
    "state_df = client_df[[\"state\", \"amount_due\", \n",
    "                             \"fine_amount\", \"interest_amount\", \n",
    "                             \"payment_amount\", \"penalty_amount\", \"summons_number\"]]\n",
    "\n",
    "state_df[\"Label\"] = np.where(state_df[\"state\"]==\"NY\",\"NY\",\"Out of State\")\n",
    "\n",
    "\n",
    "state_grouping = state_df.groupby([\"Label\"])\n"
   ]
  },
  {
   "cell_type": "code",
   "execution_count": 25,
   "metadata": {},
   "outputs": [
    {
     "data": {
      "text/plain": [
       "Label\n",
       "NY              56976544\n",
       "Out of State    16820865\n",
       "Name: fine_amount, dtype: int64"
      ]
     },
     "execution_count": 25,
     "metadata": {},
     "output_type": "execute_result"
    }
   ],
   "source": [
    "fine_amount_sum = state_grouping[\"fine_amount\"].sum()\n",
    "fine_amount_sum.head()"
   ]
  },
  {
   "cell_type": "code",
   "execution_count": 26,
   "metadata": {},
   "outputs": [
    {
     "data": {
      "text/plain": [
       "Label\n",
       "NY              788697\n",
       "Out of State    211303\n",
       "Name: summons_number, dtype: int64"
      ]
     },
     "execution_count": 26,
     "metadata": {},
     "output_type": "execute_result"
    }
   ],
   "source": [
    "state_frequency = state_grouping[\"summons_number\"].count()\n",
    "state_frequency.head()"
   ]
  },
  {
   "cell_type": "code",
   "execution_count": 27,
   "metadata": {},
   "outputs": [
    {
     "data": {
      "text/html": [
       "<div>\n",
       "<style scoped>\n",
       "    .dataframe tbody tr th:only-of-type {\n",
       "        vertical-align: middle;\n",
       "    }\n",
       "\n",
       "    .dataframe tbody tr th {\n",
       "        vertical-align: top;\n",
       "    }\n",
       "\n",
       "    .dataframe thead th {\n",
       "        text-align: right;\n",
       "    }\n",
       "</style>\n",
       "<table border=\"1\" class=\"dataframe\">\n",
       "  <thead>\n",
       "    <tr style=\"text-align: right;\">\n",
       "      <th></th>\n",
       "      <th>Total Violation Cost</th>\n",
       "      <th>Frequency</th>\n",
       "    </tr>\n",
       "    <tr>\n",
       "      <th>Label</th>\n",
       "      <th></th>\n",
       "      <th></th>\n",
       "    </tr>\n",
       "  </thead>\n",
       "  <tbody>\n",
       "    <tr>\n",
       "      <th>NY</th>\n",
       "      <td>56976544</td>\n",
       "      <td>788697</td>\n",
       "    </tr>\n",
       "    <tr>\n",
       "      <th>Out of State</th>\n",
       "      <td>16820865</td>\n",
       "      <td>211303</td>\n",
       "    </tr>\n",
       "  </tbody>\n",
       "</table>\n",
       "</div>"
      ],
      "text/plain": [
       "              Total Violation Cost  Frequency\n",
       "Label                                        \n",
       "NY                        56976544     788697\n",
       "Out of State              16820865     211303"
      ]
     },
     "execution_count": 27,
     "metadata": {},
     "output_type": "execute_result"
    }
   ],
   "source": [
    "state_combined_df = pd.DataFrame({\"Total Violation Cost\": fine_amount_sum, \"Frequency\": state_frequency})\n",
    "\n",
    "state_fine_sort = state_combined_df.sort_values(\"Total Violation Cost\", ascending=False)\n",
    "state_fine_sort.head()"
   ]
  },
  {
   "cell_type": "code",
   "execution_count": 28,
   "metadata": {},
   "outputs": [
    {
     "data": {
      "text/html": [
       "<div>\n",
       "<style scoped>\n",
       "    .dataframe tbody tr th:only-of-type {\n",
       "        vertical-align: middle;\n",
       "    }\n",
       "\n",
       "    .dataframe tbody tr th {\n",
       "        vertical-align: top;\n",
       "    }\n",
       "\n",
       "    .dataframe thead th {\n",
       "        text-align: right;\n",
       "    }\n",
       "</style>\n",
       "<table border=\"1\" class=\"dataframe\">\n",
       "  <thead>\n",
       "    <tr style=\"text-align: right;\">\n",
       "      <th></th>\n",
       "      <th>Total Violation Cost</th>\n",
       "      <th>Frequency</th>\n",
       "    </tr>\n",
       "    <tr>\n",
       "      <th>Label</th>\n",
       "      <th></th>\n",
       "      <th></th>\n",
       "    </tr>\n",
       "  </thead>\n",
       "  <tbody>\n",
       "    <tr>\n",
       "      <th>NY</th>\n",
       "      <td>56976544</td>\n",
       "      <td>788697</td>\n",
       "    </tr>\n",
       "    <tr>\n",
       "      <th>Out of State</th>\n",
       "      <td>16820865</td>\n",
       "      <td>211303</td>\n",
       "    </tr>\n",
       "  </tbody>\n",
       "</table>\n",
       "</div>"
      ],
      "text/plain": [
       "              Total Violation Cost  Frequency\n",
       "Label                                        \n",
       "NY                        56976544     788697\n",
       "Out of State              16820865     211303"
      ]
     },
     "execution_count": 28,
     "metadata": {},
     "output_type": "execute_result"
    }
   ],
   "source": [
    "state_frequency_sort = state_combined_df.sort_values(\"Frequency\", ascending=False)\n",
    "state_frequency_sort.head()"
   ]
  },
  {
   "cell_type": "code",
   "execution_count": 38,
   "metadata": {},
   "outputs": [
    {
     "data": {
      "image/png": "[encoded data removed]",
      "text/plain": [
       "<Figure size 360x360 with 1 Axes>"
      ]
     },
     "metadata": {
      "needs_background": "light"
     },
     "output_type": "display_data"
    }
   ],
   "source": [
    "df_for_graph2 = pd.DataFrame({\"Total Violation Cost\": fine_amount_sum})\n",
    "\n",
    "ay = df_for_graph2.plot(kind=\"bar\", figsize=(5,5), rot=0)\n",
    "                  \n",
    "plt.title(\"total $ generated\")\n",
    "\n",
    "plt.ylabel(\"\")\n",
    "\n",
    "for p in ay.patches: \n",
    "    ay.annotate(np.round(p.get_height(),decimals=2), (p.get_x()+p.get_width()/2., p.get_height()), ha='center', va='center', xytext=(0, 10), textcoords='offset points')\n",
    "    \n",
    "plt.ylim(0, max(df_for_graph2[\"Total Violation Cost\"])+ 5000000)\n",
    "\n",
    "plt.show()"
   ]
  },
  {
   "cell_type": "code",
   "execution_count": 30,
   "metadata": {},
   "outputs": [
    {
     "data": {
      "text/plain": [
       "Text(0, 0.5, '')"
      ]
     },
     "execution_count": 30,
     "metadata": {},
     "output_type": "execute_result"
    },
    {
     "data": {
      "image/png": "[encoded data removed]",
      "text/plain": [
       "<Figure size 432x288 with 1 Axes>"
      ]
     },
     "metadata": {},
     "output_type": "display_data"
    }
   ],
   "source": [
    "pie3 = state_frequency.plot(kind=\"pie\", title=\"% of Total Number of Tickets\", autopct=\"%1.1f%%\", startangle=45)\n",
    "pie3.set_ylabel(\"\")"
   ]
  },
  {
   "cell_type": "code",
   "execution_count": 31,
   "metadata": {},
   "outputs": [
    {
     "data": {
      "text/plain": [
       "Text(0, 0.5, '')"
      ]
     },
     "execution_count": 31,
     "metadata": {},
     "output_type": "execute_result"
    },
    {
     "data": {
      "image/png": "[encoded data removed]",
      "text/plain": [
       "<Figure size 432x288 with 1 Axes>"
      ]
     },
     "metadata": {},
     "output_type": "display_data"
    }
   ],
   "source": [
    "pie4 = fine_amount_sum.plot(kind=\"pie\", title=\"% of $ generated\", autopct=\"%1.1f%%\", startangle=45)\n",
    "pie4.set_ylabel(\"\")"
   ]
  }
 ],
 "metadata": {
  "kernelspec": {
   "display_name": "Python 3",
   "language": "python",
   "name": "python3"
  },
  "language_info": {
   "codemirror_mode": {
    "name": "ipython",
    "version": 3
   },
   "file_extension": ".py",
   "mimetype": "text/x-python",
   "name": "python",
   "nbconvert_exporter": "python",
   "pygments_lexer": "ipython3",
   "version": "3.7.3"
  }
 },
 "nbformat": 4,
 "nbformat_minor": 2
}
