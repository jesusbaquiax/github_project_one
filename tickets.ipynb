{
 "cells": [
  {
   "cell_type": "code",
   "execution_count": 2,
   "metadata": {},
   "outputs": [],
   "source": [
    "import requests\n",
    "import json\n",
    "import pandas as pd\n",
    "from sodapy import Socrata\n",
    "import numpy as np\n",
    "import matplotlib.pyplot as plt"
   ]
  },
  {
   "cell_type": "code",
   "execution_count": 3,
   "metadata": {},
   "outputs": [
    {
     "data": {
      "text/html": [
       "<div>\n",
       "<style scoped>\n",
       "    .dataframe tbody tr th:only-of-type {\n",
       "        vertical-align: middle;\n",
       "    }\n",
       "\n",
       "    .dataframe tbody tr th {\n",
       "        vertical-align: top;\n",
       "    }\n",
       "\n",
       "    .dataframe thead th {\n",
       "        text-align: right;\n",
       "    }\n",
       "</style>\n",
       "<table border=\"1\" class=\"dataframe\">\n",
       "  <thead>\n",
       "    <tr style=\"text-align: right;\">\n",
       "      <th></th>\n",
       "      <th>amount_due</th>\n",
       "      <th>county</th>\n",
       "      <th>fine_amount</th>\n",
       "      <th>interest_amount</th>\n",
       "      <th>issue_date</th>\n",
       "      <th>issuing_agency</th>\n",
       "      <th>judgment_entry_date</th>\n",
       "      <th>license_type</th>\n",
       "      <th>payment_amount</th>\n",
       "      <th>penalty_amount</th>\n",
       "      <th>plate</th>\n",
       "      <th>precinct</th>\n",
       "      <th>reduction_amount</th>\n",
       "      <th>state</th>\n",
       "      <th>summons_image</th>\n",
       "      <th>summons_number</th>\n",
       "      <th>violation</th>\n",
       "      <th>violation_status</th>\n",
       "      <th>violation_time</th>\n",
       "    </tr>\n",
       "  </thead>\n",
       "  <tbody>\n",
       "    <tr>\n",
       "      <th>0</th>\n",
       "      <td>0</td>\n",
       "      <td>Q</td>\n",
       "      <td>65</td>\n",
       "      <td>0</td>\n",
       "      <td>07/17/2018</td>\n",
       "      <td>TRAFFIC</td>\n",
       "      <td>NaN</td>\n",
       "      <td>IRP</td>\n",
       "      <td>65</td>\n",
       "      <td>0</td>\n",
       "      <td>35555PC</td>\n",
       "      <td>107</td>\n",
       "      <td>0</td>\n",
       "      <td>NY</td>\n",
       "      <td>{'url': 'http://nycserv.nyc.gov/NYCServWeb/Sho...</td>\n",
       "      <td>8583283734</td>\n",
       "      <td>INSP. STICKER-EXPIRED/MISSING</td>\n",
       "      <td>HEARING HELD-GUILTY</td>\n",
       "      <td>02:19P</td>\n",
       "    </tr>\n",
       "    <tr>\n",
       "      <th>1</th>\n",
       "      <td>165.34</td>\n",
       "      <td>BX</td>\n",
       "      <td>95</td>\n",
       "      <td>10.34</td>\n",
       "      <td>07/22/2018</td>\n",
       "      <td>POLICE DEPARTMENT</td>\n",
       "      <td>11/15/2018</td>\n",
       "      <td>PAS</td>\n",
       "      <td>0</td>\n",
       "      <td>60</td>\n",
       "      <td>HCE373</td>\n",
       "      <td>047</td>\n",
       "      <td>0</td>\n",
       "      <td>VT</td>\n",
       "      <td>{'url': 'http://nycserv.nyc.gov/NYCServWeb/Sho...</td>\n",
       "      <td>1436354780</td>\n",
       "      <td>OBSTRUCTING DRIVEWAY</td>\n",
       "      <td>NaN</td>\n",
       "      <td>04:55A</td>\n",
       "    </tr>\n",
       "    <tr>\n",
       "      <th>2</th>\n",
       "      <td>0</td>\n",
       "      <td>BK</td>\n",
       "      <td>50</td>\n",
       "      <td>0</td>\n",
       "      <td>12/31/2018</td>\n",
       "      <td>DEPARTMENT OF TRANSPORTATION</td>\n",
       "      <td>NaN</td>\n",
       "      <td>OMT</td>\n",
       "      <td>75</td>\n",
       "      <td>25</td>\n",
       "      <td>T648698C</td>\n",
       "      <td>000</td>\n",
       "      <td>0</td>\n",
       "      <td>NY</td>\n",
       "      <td>{'url': 'http://nycserv.nyc.gov/NYCServWeb/Sho...</td>\n",
       "      <td>5104987474</td>\n",
       "      <td>FAILURE TO STOP AT RED LIGHT</td>\n",
       "      <td>NaN</td>\n",
       "      <td>09:36A</td>\n",
       "    </tr>\n",
       "    <tr>\n",
       "      <th>3</th>\n",
       "      <td>0</td>\n",
       "      <td>BK</td>\n",
       "      <td>50</td>\n",
       "      <td>0</td>\n",
       "      <td>12/31/2018</td>\n",
       "      <td>DEPARTMENT OF TRANSPORTATION</td>\n",
       "      <td>NaN</td>\n",
       "      <td>PAS</td>\n",
       "      <td>50</td>\n",
       "      <td>0</td>\n",
       "      <td>GSN6575</td>\n",
       "      <td>000</td>\n",
       "      <td>0</td>\n",
       "      <td>NY</td>\n",
       "      <td>{'url': 'http://nycserv.nyc.gov/NYCServWeb/Sho...</td>\n",
       "      <td>5104987413</td>\n",
       "      <td>FAILURE TO STOP AT RED LIGHT</td>\n",
       "      <td>NaN</td>\n",
       "      <td>09:31A</td>\n",
       "    </tr>\n",
       "    <tr>\n",
       "      <th>4</th>\n",
       "      <td>0</td>\n",
       "      <td>K</td>\n",
       "      <td>115</td>\n",
       "      <td>0</td>\n",
       "      <td>09/05/2018</td>\n",
       "      <td>TRAFFIC</td>\n",
       "      <td>NaN</td>\n",
       "      <td>COM</td>\n",
       "      <td>0</td>\n",
       "      <td>0</td>\n",
       "      <td>11246MC</td>\n",
       "      <td>083</td>\n",
       "      <td>115</td>\n",
       "      <td>NY</td>\n",
       "      <td>{'url': 'http://nycserv.nyc.gov/NYCServWeb/Sho...</td>\n",
       "      <td>8538637927</td>\n",
       "      <td>NO STANDING-DAY/TIME LIMITS</td>\n",
       "      <td>HEARING HELD-NOT GUILTY</td>\n",
       "      <td>01:45P</td>\n",
       "    </tr>\n",
       "  </tbody>\n",
       "</table>\n",
       "</div>"
      ],
      "text/plain": [
       "  amount_due county fine_amount interest_amount  issue_date  \\\n",
       "0          0      Q          65               0  07/17/2018   \n",
       "1     165.34     BX          95           10.34  07/22/2018   \n",
       "2          0     BK          50               0  12/31/2018   \n",
       "3          0     BK          50               0  12/31/2018   \n",
       "4          0      K         115               0  09/05/2018   \n",
       "\n",
       "                 issuing_agency judgment_entry_date license_type  \\\n",
       "0                       TRAFFIC                 NaN          IRP   \n",
       "1             POLICE DEPARTMENT          11/15/2018          PAS   \n",
       "2  DEPARTMENT OF TRANSPORTATION                 NaN          OMT   \n",
       "3  DEPARTMENT OF TRANSPORTATION                 NaN          PAS   \n",
       "4                       TRAFFIC                 NaN          COM   \n",
       "\n",
       "  payment_amount penalty_amount     plate precinct reduction_amount state  \\\n",
       "0             65              0   35555PC      107                0    NY   \n",
       "1              0             60    HCE373      047                0    VT   \n",
       "2             75             25  T648698C      000                0    NY   \n",
       "3             50              0   GSN6575      000                0    NY   \n",
       "4              0              0   11246MC      083              115    NY   \n",
       "\n",
       "                                       summons_image summons_number  \\\n",
       "0  {'url': 'http://nycserv.nyc.gov/NYCServWeb/Sho...     8583283734   \n",
       "1  {'url': 'http://nycserv.nyc.gov/NYCServWeb/Sho...     1436354780   \n",
       "2  {'url': 'http://nycserv.nyc.gov/NYCServWeb/Sho...     5104987474   \n",
       "3  {'url': 'http://nycserv.nyc.gov/NYCServWeb/Sho...     5104987413   \n",
       "4  {'url': 'http://nycserv.nyc.gov/NYCServWeb/Sho...     8538637927   \n",
       "\n",
       "                       violation         violation_status violation_time  \n",
       "0  INSP. STICKER-EXPIRED/MISSING      HEARING HELD-GUILTY         02:19P  \n",
       "1           OBSTRUCTING DRIVEWAY                      NaN         04:55A  \n",
       "2   FAILURE TO STOP AT RED LIGHT                      NaN         09:36A  \n",
       "3   FAILURE TO STOP AT RED LIGHT                      NaN         09:31A  \n",
       "4    NO STANDING-DAY/TIME LIMITS  HEARING HELD-NOT GUILTY         01:45P  "
      ]
     },
     "execution_count": 3,
     "metadata": {},
     "output_type": "execute_result"
    }
   ],
   "source": [
    "client = Socrata(\"data.cityofnewyork.us\", \"nw0pZM57EWuIKqCqQvWUFqAE0\")\n",
    "results = client.get(\"uvbq-3m68\", limit = 500000, where=\"issue_date like'%/2018'\")\n",
    "client_df = pd.DataFrame.from_records(results)\n",
    "client_df.head()"
   ]
  },
  {
   "cell_type": "code",
   "execution_count": 7,
   "metadata": {},
   "outputs": [],
   "source": [
    "client_df[\"amount_due\"] = pd.to_numeric(client_df[\"amount_due\"])\n",
    "client_df[\"fine_amount\"] = pd.to_numeric(client_df[\"fine_amount\"])\n",
    "client_df[\"interest_amount\"] = pd.to_numeric(client_df[\"interest_amount\"])\n",
    "client_df[\"payment_amount\"] = pd.to_numeric(client_df[\"payment_amount\"])\n",
    "client_df[\"penalty_amount\"] = pd.to_numeric(client_df[\"penalty_amount\"])\n",
    "client_df[\"reduction_amount\"] = pd.to_numeric(client_df[\"reduction_amount\"])"
   ]
  },
  {
   "cell_type": "code",
   "execution_count": 21,
   "metadata": {},
   "outputs": [],
   "source": [
    "# Frequency of violations + Total fine amount by license plate\n",
    "\n",
    "frequency_plate = client_df[[\"plate\", \"amount_due\", \n",
    "                             \"fine_amount\", \"interest_amount\", \n",
    "                             \"payment_amount\", \"penalty_amount\",\n",
    "                             \"summons_number\", \"state\"]]\n",
    "\n",
    "frequency_plate_grouping = frequency_plate.groupby([\"plate\"])\n"
   ]
  },
  {
   "cell_type": "code",
   "execution_count": 9,
   "metadata": {},
   "outputs": [
    {
     "data": {
      "text/plain": [
       "plate\n",
       "000002N    1\n",
       "00004CH    1\n",
       "00006CF    1\n",
       "0001DBD    1\n",
       "0001QDD    1\n",
       "Name: summons_number, dtype: int64"
      ]
     },
     "execution_count": 9,
     "metadata": {},
     "output_type": "execute_result"
    }
   ],
   "source": [
    "meow = frequency_plate_grouping[\"summons_number\"].count()\n",
    "meow.head()"
   ]
  },
  {
   "cell_type": "code",
   "execution_count": 10,
   "metadata": {},
   "outputs": [
    {
     "data": {
      "text/plain": [
       "plate\n",
       "000002N     45\n",
       "00004CH    115\n",
       "00006CF     95\n",
       "0001DBD     95\n",
       "0001QDD     95\n",
       "Name: fine_amount, dtype: int64"
      ]
     },
     "execution_count": 10,
     "metadata": {},
     "output_type": "execute_result"
    }
   ],
   "source": [
    "woof = frequency_plate_grouping[\"fine_amount\"].sum()\n",
    "woof.head()"
   ]
  },
  {
   "cell_type": "code",
   "execution_count": 11,
   "metadata": {},
   "outputs": [
    {
     "data": {
      "text/html": [
       "<div>\n",
       "<style scoped>\n",
       "    .dataframe tbody tr th:only-of-type {\n",
       "        vertical-align: middle;\n",
       "    }\n",
       "\n",
       "    .dataframe tbody tr th {\n",
       "        vertical-align: top;\n",
       "    }\n",
       "\n",
       "    .dataframe thead th {\n",
       "        text-align: right;\n",
       "    }\n",
       "</style>\n",
       "<table border=\"1\" class=\"dataframe\">\n",
       "  <thead>\n",
       "    <tr style=\"text-align: right;\">\n",
       "      <th></th>\n",
       "      <th>Total Violation Cost</th>\n",
       "      <th>Frequency</th>\n",
       "    </tr>\n",
       "    <tr>\n",
       "      <th>plate</th>\n",
       "      <th></th>\n",
       "      <th></th>\n",
       "    </tr>\n",
       "  </thead>\n",
       "  <tbody>\n",
       "    <tr>\n",
       "      <th>BLANKPLATE</th>\n",
       "      <td>17445</td>\n",
       "      <td>219</td>\n",
       "    </tr>\n",
       "    <tr>\n",
       "      <th>34914PC</th>\n",
       "      <td>12270</td>\n",
       "      <td>126</td>\n",
       "    </tr>\n",
       "    <tr>\n",
       "      <th>48703PC</th>\n",
       "      <td>7190</td>\n",
       "      <td>96</td>\n",
       "    </tr>\n",
       "    <tr>\n",
       "      <th>KNX6784</th>\n",
       "      <td>10055</td>\n",
       "      <td>88</td>\n",
       "    </tr>\n",
       "    <tr>\n",
       "      <th>43176PC</th>\n",
       "      <td>8380</td>\n",
       "      <td>80</td>\n",
       "    </tr>\n",
       "  </tbody>\n",
       "</table>\n",
       "</div>"
      ],
      "text/plain": [
       "            Total Violation Cost  Frequency\n",
       "plate                                      \n",
       "BLANKPLATE                 17445        219\n",
       "34914PC                    12270        126\n",
       "48703PC                     7190         96\n",
       "KNX6784                    10055         88\n",
       "43176PC                     8380         80"
      ]
     },
     "execution_count": 11,
     "metadata": {},
     "output_type": "execute_result"
    }
   ],
   "source": [
    "frequency = pd.DataFrame({\"Total Violation Cost\": woof, \"Frequency\": meow })\n",
    "frequency_sorted = frequency.sort_values(\"Frequency\", ascending=False)\n",
    "frequency_sorted.head()"
   ]
  },
  {
   "cell_type": "code",
   "execution_count": null,
   "metadata": {},
   "outputs": [],
   "source": []
  },
  {
   "cell_type": "code",
   "execution_count": 12,
   "metadata": {},
   "outputs": [
    {
     "data": {
      "text/html": [
       "<div>\n",
       "<style scoped>\n",
       "    .dataframe tbody tr th:only-of-type {\n",
       "        vertical-align: middle;\n",
       "    }\n",
       "\n",
       "    .dataframe tbody tr th {\n",
       "        vertical-align: top;\n",
       "    }\n",
       "\n",
       "    .dataframe thead th {\n",
       "        text-align: right;\n",
       "    }\n",
       "</style>\n",
       "<table border=\"1\" class=\"dataframe\">\n",
       "  <thead>\n",
       "    <tr style=\"text-align: right;\">\n",
       "      <th></th>\n",
       "      <th>Total Violation Cost</th>\n",
       "      <th>Frequency</th>\n",
       "      <th>breakdown</th>\n",
       "    </tr>\n",
       "    <tr>\n",
       "      <th>plate</th>\n",
       "      <th></th>\n",
       "      <th></th>\n",
       "      <th></th>\n",
       "    </tr>\n",
       "  </thead>\n",
       "  <tbody>\n",
       "    <tr>\n",
       "      <th>BLANKPLATE</th>\n",
       "      <td>17445</td>\n",
       "      <td>219</td>\n",
       "      <td>More than 2 tickets</td>\n",
       "    </tr>\n",
       "    <tr>\n",
       "      <th>34914PC</th>\n",
       "      <td>12270</td>\n",
       "      <td>126</td>\n",
       "      <td>More than 2 tickets</td>\n",
       "    </tr>\n",
       "    <tr>\n",
       "      <th>48703PC</th>\n",
       "      <td>7190</td>\n",
       "      <td>96</td>\n",
       "      <td>More than 2 tickets</td>\n",
       "    </tr>\n",
       "    <tr>\n",
       "      <th>KNX6784</th>\n",
       "      <td>10055</td>\n",
       "      <td>88</td>\n",
       "      <td>More than 2 tickets</td>\n",
       "    </tr>\n",
       "    <tr>\n",
       "      <th>43176PC</th>\n",
       "      <td>8380</td>\n",
       "      <td>80</td>\n",
       "      <td>More than 2 tickets</td>\n",
       "    </tr>\n",
       "  </tbody>\n",
       "</table>\n",
       "</div>"
      ],
      "text/plain": [
       "            Total Violation Cost  Frequency            breakdown\n",
       "plate                                                           \n",
       "BLANKPLATE                 17445        219  More than 2 tickets\n",
       "34914PC                    12270        126  More than 2 tickets\n",
       "48703PC                     7190         96  More than 2 tickets\n",
       "KNX6784                    10055         88  More than 2 tickets\n",
       "43176PC                     8380         80  More than 2 tickets"
      ]
     },
     "execution_count": 12,
     "metadata": {},
     "output_type": "execute_result"
    }
   ],
   "source": [
    "bins = [0,2,250]\n",
    "groups = [\"Up to 2 Tickets\", \"More than 2 tickets\"]\n",
    "\n",
    "frequency_sorted[\"breakdown\"] = pd.cut(frequency_sorted[\"Frequency\"], bins, labels=groups)\n",
    "frequency_sorted.head()"
   ]
  },
  {
   "cell_type": "code",
   "execution_count": 13,
   "metadata": {},
   "outputs": [
    {
     "data": {
      "text/plain": [
       "Up to 2 Tickets        335129\n",
       "More than 2 tickets     24025\n",
       "Name: breakdown, dtype: int64"
      ]
     },
     "execution_count": 13,
     "metadata": {},
     "output_type": "execute_result"
    }
   ],
   "source": [
    "breakdown_variable = frequency_sorted[\"breakdown\"].value_counts()\n",
    "breakdown_variable"
   ]
  },
  {
   "cell_type": "code",
   "execution_count": 14,
   "metadata": {},
   "outputs": [
    {
     "data": {
      "text/plain": [
       "breakdown\n",
       "Up to 2 Tickets        27116400\n",
       "More than 2 tickets     9858615\n",
       "Name: Total Violation Cost, dtype: int64"
      ]
     },
     "execution_count": 14,
     "metadata": {},
     "output_type": "execute_result"
    }
   ],
   "source": [
    "groupedby_breakdown = frequency_sorted.groupby([\"breakdown\"])\n",
    "moo = groupedby_breakdown[\"Total Violation Cost\"].sum()\n",
    "moo"
   ]
  },
  {
   "cell_type": "code",
   "execution_count": 15,
   "metadata": {},
   "outputs": [
    {
     "data": {
      "text/html": [
       "<div>\n",
       "<style scoped>\n",
       "    .dataframe tbody tr th:only-of-type {\n",
       "        vertical-align: middle;\n",
       "    }\n",
       "\n",
       "    .dataframe tbody tr th {\n",
       "        vertical-align: top;\n",
       "    }\n",
       "\n",
       "    .dataframe thead th {\n",
       "        text-align: right;\n",
       "    }\n",
       "</style>\n",
       "<table border=\"1\" class=\"dataframe\">\n",
       "  <thead>\n",
       "    <tr style=\"text-align: right;\">\n",
       "      <th></th>\n",
       "      <th>Total $ Generated</th>\n",
       "    </tr>\n",
       "    <tr>\n",
       "      <th>breakdown</th>\n",
       "      <th></th>\n",
       "    </tr>\n",
       "  </thead>\n",
       "  <tbody>\n",
       "    <tr>\n",
       "      <th>Up to 2 Tickets</th>\n",
       "      <td>27116400</td>\n",
       "    </tr>\n",
       "    <tr>\n",
       "      <th>More than 2 tickets</th>\n",
       "      <td>9858615</td>\n",
       "    </tr>\n",
       "  </tbody>\n",
       "</table>\n",
       "</div>"
      ],
      "text/plain": [
       "                     Total $ Generated\n",
       "breakdown                             \n",
       "Up to 2 Tickets               27116400\n",
       "More than 2 tickets            9858615"
      ]
     },
     "execution_count": 15,
     "metadata": {},
     "output_type": "execute_result"
    }
   ],
   "source": [
    "df_for_graph = pd.DataFrame({\"Total $ Generated\": moo})\n",
    "df_for_graph.head()"
   ]
  },
  {
   "cell_type": "code",
   "execution_count": 16,
   "metadata": {},
   "outputs": [
    {
     "data": {
      "image/png": "[encoded data removed]",
      "text/plain": [
       "<Figure size 360x360 with 1 Axes>"
      ]
     },
     "metadata": {
      "needs_background": "light"
     },
     "output_type": "display_data"
    }
   ],
   "source": [
    "ax = df_for_graph.plot(kind=\"bar\", figsize=(5,5), rot=0)\n",
    "                  \n",
    "plt.title(\"total $ generated\")\n",
    "\n",
    "plt.ylabel(\"$ Generated in thousands\")\n",
    "\n",
    "for p in ax.patches: \n",
    "    ax.annotate(np.round(p.get_height(),decimals=2), (p.get_x()+p.get_width()/2., p.get_height()), ha='center', va='center', xytext=(0, 10), textcoords='offset points')\n",
    "    \n",
    "plt.ylim(0, max(df_for_graph[\"Total $ Generated\"])+ 5000000)\n",
    "\n",
    "plt.show()"
   ]
  },
  {
   "cell_type": "code",
   "execution_count": 35,
   "metadata": {},
   "outputs": [
    {
     "data": {
      "text/plain": [
       "Text(0, 0.5, '')"
      ]
     },
     "execution_count": 35,
     "metadata": {},
     "output_type": "execute_result"
    },
    {
     "data": {
      "image/png": "[encoded data removed]",
      "text/plain": [
       "<Figure size 432x288 with 1 Axes>"
      ]
     },
     "metadata": {},
     "output_type": "display_data"
    }
   ],
   "source": [
    "#pie chart\n",
    "\n",
    "pie = breakdown_variable.plot(kind=\"pie\", title=\"% of Total Number of Tickets\", autopct=\"%1.1f%%\", startangle=45)\n",
    "pie.set_ylabel(\"\")"
   ]
  },
  {
   "cell_type": "code",
   "execution_count": 51,
   "metadata": {},
   "outputs": [
    {
     "data": {
      "text/plain": [
       "Text(0, 0.5, '')"
      ]
     },
     "execution_count": 51,
     "metadata": {},
     "output_type": "execute_result"
    },
    {
     "data": {
      "image/png": "[encoded data removed]",
      "text/plain": [
       "<Figure size 432x288 with 1 Axes>"
      ]
     },
     "metadata": {},
     "output_type": "display_data"
    }
   ],
   "source": [
    "pie2 = moo.plot(kind=\"pie\", title=\"% of $ generated\", autopct=\"%1.1f%%\", startangle=45)\n",
    "plt.legend(loc=\"upper left\", bbox_to_anchor=(0.85,1.025))\n",
    "pie2.set_ylabel(\"\")"
   ]
  },
  {
   "cell_type": "code",
   "execution_count": 124,
   "metadata": {},
   "outputs": [],
   "source": [
    "# pies by state\n",
    "#timeline of getting tickets\n",
    "#top five flyers made $ vs 10,000 bottom others (do two buckets for visualization)\n"
   ]
  },
  {
   "cell_type": "code",
   "execution_count": null,
   "metadata": {},
   "outputs": [],
   "source": [
    "#Frequency of violations by state\n",
    "\n"
   ]
  },
  {
   "cell_type": "code",
   "execution_count": null,
   "metadata": {
    "scrolled": true
   },
   "outputs": [],
   "source": [
    "# Total $ amount of violations by license plate\n",
    "# Total $ amount of violations by state"
   ]
  }
 ],
 "metadata": {
  "kernelspec": {
   "display_name": "Python 3",
   "language": "python",
   "name": "python3"
  },
  "language_info": {
   "codemirror_mode": {
    "name": "ipython",
    "version": 3
   },
   "file_extension": ".py",
   "mimetype": "text/x-python",
   "name": "python",
   "nbconvert_exporter": "python",
   "pygments_lexer": "ipython3",
   "version": "3.7.3"
  }
 },
 "nbformat": 4,
 "nbformat_minor": 2
}
